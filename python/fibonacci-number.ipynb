{
 "cells": [
  {
   "cell_type": "code",
   "execution_count": null,
   "metadata": {},
   "outputs": [],
   "source": [
    "class Solution:\n",
    "    def fib(self, N: int) -> int:\n",
    "        if N <=1 :\n",
    "            return N\n",
    "        if N==2:\n",
    "            return 1\n",
    "        fib = 0\n",
    "        prev1  =1\n",
    "        prev2 = 1\n",
    "        for i in range(3,N+1):\n",
    "            fib = prev1+prev2\n",
    "            prev2 = prev1\n",
    "            prev1 = fib\n",
    "        return fib\n",
    "        "
   ]
  },
  {
   "cell_type": "code",
   "execution_count": null,
   "metadata": {},
   "outputs": [],
   "source": [
    "class Solution:\n",
    "    def fib(self, N: int) -> int:\n",
    "        if N<=1:\n",
    "            return N\n",
    "        \n",
    "        fib ={0:0, 1:1}\n",
    "        for i in range(2,N+1):\n",
    "            fib[i] =fib[i-1]+fib[i-2]\n",
    "        return fib[N]\n",
    "        "
   ]
  }
 ],
 "metadata": {
  "kernelspec": {
   "display_name": "Python 3",
   "language": "python",
   "name": "python3"
  },
  "language_info": {
   "codemirror_mode": {
    "name": "ipython",
    "version": 3
   },
   "file_extension": ".py",
   "mimetype": "text/x-python",
   "name": "python",
   "nbconvert_exporter": "python",
   "pygments_lexer": "ipython3",
   "version": "3.8.2"
  }
 },
 "nbformat": 4,
 "nbformat_minor": 4
}
